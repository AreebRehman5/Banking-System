{
 "cells": [
  {
   "cell_type": "code",
   "execution_count": 1,
   "id": "63c279e7-17da-4ec4-af32-9427d2d96a62",
   "metadata": {},
   "outputs": [],
   "source": [
    "import os\n",
    "\n",
    "# Function to create an account\n",
    "def create_account(name, initial_balance=0.0):\n",
    "    \"\"\"Creates a new account with the given name and initial balance.\"\"\"\n",
    "    if initial_balance < 0:\n",
    "        raise ValueError(\"Initial balance cannot be negative.\")\n",
    "    account = {\n",
    "        \"name\": name,\n",
    "        \"balance\": initial_balance,\n",
    "        \"transactions\": []\n",
    "    }\n",
    "    return account\n",
    "    "
   ]
  },
  {
   "cell_type": "code",
   "execution_count": 3,
   "id": "76e86f34-057b-4031-b16f-80a40d6a1601",
   "metadata": {},
   "outputs": [],
   "source": [
    "# Function to deposit money into the account\n",
    "def deposit(account, amount):\n",
    "    \"\"\"Deposits the specified amount into the account.\"\"\"\n",
    "    if amount <= 0:\n",
    "        raise ValueError(\"Deposit amount must be positive.\")\n",
    "    account[\"balance\"] += amount\n",
    "    account[\"transactions\"].append(f\"Deposit: ${amount:.2f}\")\n",
    "    return account"
   ]
  },
  {
   "cell_type": "code",
   "execution_count": 5,
   "id": "919f90b4-760d-4a76-bea5-5361ec1e7d58",
   "metadata": {},
   "outputs": [],
   "source": [
    "# Function to withdraw money from the account\n",
    "def withdraw(account, amount):\n",
    "    \"\"\"Withdraws the specified amount from the account.\"\"\"\n",
    "    if amount <= 0:\n",
    "        raise ValueError(\"Withdrawal amount must be positive.\")\n",
    "    if amount > account[\"balance\"]:\n",
    "        raise ValueError(\"Insufficient balance.\")\n",
    "    account[\"balance\"] -= amount\n",
    "    account[\"transactions\"].append(f\"Withdrawal: ${amount:.2f}\")\n",
    "    return account\n"
   ]
  },
  {
   "cell_type": "code",
   "execution_count": 7,
   "id": "ad044a8c-9726-42e6-b690-b91b4c05381d",
   "metadata": {},
   "outputs": [],
   "source": [
    "# Function to check the account balance\n",
    "def check_balance(account):\n",
    "    \"\"\"Returns the current balance of the account.\"\"\"\n",
    "    return account[\"balance\"]\n"
   ]
  },
  {
   "cell_type": "code",
   "execution_count": 9,
   "id": "72aaf5a0-842a-4881-a114-5ce96806a698",
   "metadata": {},
   "outputs": [],
   "source": [
    "\n",
    "# Function to print the transaction statement\n",
    "def print_statement(account):\n",
    "    \"\"\"Prints all transactions and the balance after each transaction.\"\"\"\n",
    "    print(f\"Account Statement for {account['name']}:\")\n",
    "    balance = 0.0\n",
    "    for transaction in account[\"transactions\"]:\n",
    "        print(transaction)\n",
    "        amount = float(transaction.split('$')[1])\n",
    "        if \"Deposit\" in transaction:\n",
    "            balance += amount\n",
    "        elif \"Withdrawal\" in transaction:\n",
    "            balance -= amount\n",
    "        print(f\"Balance after transaction: ${balance:.2f}\")\n",
    "    print(f\"Final Balance: ${account['balance']:.2f}\")"
   ]
  },
  {
   "cell_type": "code",
   "execution_count": 11,
   "id": "d6bfa02e-39e8-4c9b-8413-125a3cadec70",
   "metadata": {},
   "outputs": [],
   "source": [
    "# Save transactions to a file\n",
    "def save_transactions_to_file(account, filename=\"transactions.txt\"):\n",
    "    \"\"\"Saves the transactions to a text file.\"\"\"\n",
    "    with open(filename, \"w\") as file:\n",
    "        file.write(f\"Account Statement for {account['name']}:\\n\")\n",
    "        for transaction in account[\"transactions\"]:\n",
    "            file.write(transaction + \"\\n\")\n",
    "        file.write(f\"Final Balance: ${account['balance']:.2f}\\n\")\n"
   ]
  },
  {
   "cell_type": "code",
   "execution_count": 13,
   "id": "ad13572b-8031-48da-9d03-aae71b1fd1e5",
   "metadata": {},
   "outputs": [],
   "source": [
    "# Load transactions from a file\n",
    "def load_transactions_from_file(filename=\"transactions.txt\"):\n",
    "    \"\"\"Loads transactions from a text file.\"\"\"\n",
    "    if not os.path.exists(filename):\n",
    "        raise FileNotFoundError(\"Transaction file not found.\")\n",
    "    with open(filename, \"r\") as file:\n",
    "        print(file.read())"
   ]
  },
  {
   "cell_type": "code",
   "execution_count": 15,
   "id": "5a7e7e62-0437-4fca-9179-715401055c5e",
   "metadata": {},
   "outputs": [
    {
     "name": "stdout",
     "output_type": "stream",
     "text": [
      "Current Balance: $250.00\n",
      "Account Statement for John Doe:\n",
      "Deposit: $50.00\n",
      "Balance after transaction: $50.00\n",
      "Deposit: $200.00\n",
      "Balance after transaction: $250.00\n",
      "Withdrawal: $100.00\n",
      "Balance after transaction: $150.00\n",
      "Final Balance: $250.00\n",
      "\n",
      "Loaded Transactions:\n",
      "Account Statement for John Doe:\n",
      "Deposit: $50.00\n",
      "Deposit: $200.00\n",
      "Withdrawal: $100.00\n",
      "Final Balance: $250.00\n",
      "\n"
     ]
    }
   ],
   "source": [
    "# Testing the Banking System\n",
    "if __name__ == \"__main__\":\n",
    "    try:\n",
    "        # Create an account\n",
    "        account = create_account(\"John Doe\", 100.0)\n",
    "\n",
    "        # Deposit money\n",
    "        deposit(account, 50.0)\n",
    "        deposit(account, 200.0)\n",
    "\n",
    "        # Withdraw money\n",
    "        withdraw(account, 100.0)\n",
    "\n",
    "        # Check balance\n",
    "        print(f\"Current Balance: ${check_balance(account):.2f}\")\n",
    "\n",
    "        # Print statement\n",
    "        print_statement(account)\n",
    "\n",
    "        # Save transactions to file\n",
    "        save_transactions_to_file(account)\n",
    "\n",
    "        # Load transactions from file\n",
    "        print(\"\\nLoaded Transactions:\")\n",
    "        load_transactions_from_file()\n",
    "\n",
    "    except Exception as e:\n",
    "        print(f\"Error: {e}\")\n"
   ]
  },
  {
   "cell_type": "code",
   "execution_count": null,
   "id": "3d102676-7772-4cbf-b25c-5bb8d0a85e5c",
   "metadata": {},
   "outputs": [],
   "source": []
  }
 ],
 "metadata": {
  "kernelspec": {
   "display_name": "Python 3 (ipykernel)",
   "language": "python",
   "name": "python3"
  },
  "language_info": {
   "codemirror_mode": {
    "name": "ipython",
    "version": 3
   },
   "file_extension": ".py",
   "mimetype": "text/x-python",
   "name": "python",
   "nbconvert_exporter": "python",
   "pygments_lexer": "ipython3",
   "version": "3.12.7"
  }
 },
 "nbformat": 4,
 "nbformat_minor": 5
}
